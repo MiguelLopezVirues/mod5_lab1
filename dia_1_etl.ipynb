{
 "cells": [
  {
   "cell_type": "code",
   "execution_count": 3,
   "metadata": {},
   "outputs": [],
   "source": [
    "from selenium.webdriver.support.ui import WebDriverWait\n",
    "from selenium.webdriver.common.by import By\n",
    "from selenium.webdriver.support import expected_conditions as EC\n",
    "from time import sleep\n",
    "# Selenium para establecer la configuración del driver\n",
    "# -----------------------------------------------------------------------\n",
    "from selenium import webdriver\n",
    "\n",
    "# Para generar una barra de proceso en los bucles for\n",
    "# -----------------------------------------------------------------------\n",
    "from tqdm import tqdm\n",
    "\n",
    "# Para trabajar con ficheros\n",
    "# -----------------------------------------------------------------------\n",
    "import os\n",
    "\n",
    "import re\n",
    "\n",
    "import zipfile\n",
    "import shutil"
   ]
  },
  {
   "cell_type": "code",
   "execution_count": 23,
   "metadata": {},
   "outputs": [],
   "source": [
    "# lo primero que vamos a hacer es configurar nuestras preferencias del navegador para el driver\n",
    "chrome_options = webdriver.ChromeOptions()\n",
    "\n",
    "# establacemos las preferencias que queremos\n",
    "prefs = {\n",
    "    \"download.default_directory\": \"C:\\\\Users\\\\Miguel\\\\Desktop\\\\Hackio\\\\Semana_5-ETL\\\\Dia_1\\\\data\\\\downloaded\",  # AQUÍ CADA UNO TENDREMOS QUE PONER LA RUTA QUE QUERAMOS PARA QUE SE GUARDEN LOS ARCHIVOS DESCARGADOS\n",
    "    \"download.prompt_for_download\": False,   # desactiva el diálogo que Chrome normalmente muestra para pedir confirmación del usuario antes de descargar un archivo\n",
    "    \"directory_upgrade\": True,    # hace que Chrome actualice el directorio de descarga predeterminado a la nueva ubicación especificada por download.default_directory si esta ha cambiado.\n",
    "    \"safebrowsing.enabled\": True,  # Desactiva las alertas de archivos peligrosos\n",
    "    \"plugins.always_open_pdf_externally\": True,  # Si el archivo es PDF, abrirlo directamente sin confirmación\n",
    "}\n",
    "\n",
    "\n",
    "url = \"https://www.sanidad.gob.es/estadisticas/microdatos.do\"\n",
    "\n",
    "chrome_options.add_experimental_option(\"prefs\",prefs)\n",
    "\n",
    "driver = webdriver.Chrome(options=chrome_options)\n",
    "\n",
    "driver.get(url)\n",
    "driver.maximize_window()\n",
    "sleep(2)\n",
    "driver.find_element(\"css selector\", \"#tipoMicrodatos\").click()\n",
    "sleep(2)\n",
    "driver.find_element(\"css selector\", \"#tipoMicrodatos > option:nth-child(7)\").click()\n",
    "sleep(2)\n",
    "anios_padre = driver.find_elements(\"css selector\", \"#anioMicrodatos\")\n",
    "\n",
    "cantidad_anios = len(anios_padre[0].find_elements(By.TAG_NAME, \"option\"))"
   ]
  },
  {
   "cell_type": "code",
   "execution_count": 24,
   "metadata": {},
   "outputs": [
    {
     "name": "stderr",
     "output_type": "stream",
     "text": [
      "100%|██████████| 12/12 [02:12<00:00, 11.05s/it]\n"
     ]
    }
   ],
   "source": [
    "\n",
    "for anio in tqdm(range(2, cantidad_anios +1 )):\n",
    "    \n",
    "    WebDriverWait(driver, 10).until(EC.element_to_be_clickable((By.CSS_SELECTOR, f\"#anioMicrodatos > option:nth-child({anio})\"))).click()\n",
    "\n",
    "    sleep(3)\n",
    "\n",
    "    driver.find_element(\"css selector\", \"#fl1 > div.text-center > input\").click()\n",
    "\n",
    "    sleep(2)\n",
    "\n",
    "    # driver.find_element(\"css selector\", \"#estMicrodato > ul:nth-child(28) > li > a\").click()\n",
    "    driver.find_element(By.PARTIAL_LINK_TEXT, \".zip\").click()\n",
    "\n",
    "    driver.back()\n",
    "    sleep(5)\n"
   ]
  },
  {
   "cell_type": "code",
   "execution_count": 26,
   "metadata": {},
   "outputs": [
    {
     "data": {
      "text/plain": [
       "['downloaded', 'unzipped']"
      ]
     },
     "execution_count": 26,
     "metadata": {},
     "output_type": "execute_result"
    }
   ],
   "source": [
    "os.listdir(\"data\")"
   ]
  },
  {
   "cell_type": "code",
   "execution_count": 30,
   "metadata": {},
   "outputs": [],
   "source": [
    "ruta = \"C:/Users/Miguel/Desktop/Hackio/Semana_5-ETL/Dia_1/data/downloaded\"\n",
    "for archivo in os.listdir(\"data\"):\n",
    "    patron_anio = r\"/d{4}\"\n",
    "    anio_regex = re.search(patron_anio,archivo)\n",
    "    if anio_regex:\n",
    "        anio = anio.group()\n",
    "\n",
    "        os.rename(f\"{ruta}/{archivo}\", f\"{ruta}/{archivo}.zip\")\n"
   ]
  },
  {
   "cell_type": "code",
   "execution_count": 31,
   "metadata": {},
   "outputs": [
    {
     "data": {
      "text/plain": [
       "['2010_SIAE_2010.zip',\n",
       " '2011_MICRODATOS.zip',\n",
       " '2012_MICRODATOS.zip',\n",
       " '2013_MICRODATOS.zip',\n",
       " '2014_Microdatos.zip',\n",
       " '2015_MICRODATOS.zip',\n",
       " '2016_MICRODATOS.zip',\n",
       " 'SIAE2020_anonimizada.zip',\n",
       " 'SIAE_2017Anonimizada.zip',\n",
       " 'SIAE_2018anonimizada.zip',\n",
       " 'SIAE_2019_10_03_21.zip',\n",
       " 'SIAE__2021_anonimizada.zip']"
      ]
     },
     "execution_count": 31,
     "metadata": {},
     "output_type": "execute_result"
    }
   ],
   "source": [
    "os.listdir(ruta)"
   ]
  },
  {
   "cell_type": "code",
   "execution_count": 33,
   "metadata": {},
   "outputs": [
    {
     "name": "stdout",
     "output_type": "stream",
     "text": [
      "2010_SIAE_2010.zip\n",
      "C:/Users/Miguel/Desktop/Hackio/Semana_5-ETL/Dia_1/data/downloaded\\2010_SIAE_2010.zip\n",
      "2011_MICRODATOS.zip\n",
      "C:/Users/Miguel/Desktop/Hackio/Semana_5-ETL/Dia_1/data/downloaded\\2011_MICRODATOS.zip\n",
      "2012_MICRODATOS.zip\n",
      "C:/Users/Miguel/Desktop/Hackio/Semana_5-ETL/Dia_1/data/downloaded\\2012_MICRODATOS.zip\n",
      "2013_MICRODATOS.zip\n",
      "C:/Users/Miguel/Desktop/Hackio/Semana_5-ETL/Dia_1/data/downloaded\\2013_MICRODATOS.zip\n",
      "2014_Microdatos.zip\n",
      "C:/Users/Miguel/Desktop/Hackio/Semana_5-ETL/Dia_1/data/downloaded\\2014_Microdatos.zip\n",
      "2015_MICRODATOS.zip\n",
      "C:/Users/Miguel/Desktop/Hackio/Semana_5-ETL/Dia_1/data/downloaded\\2015_MICRODATOS.zip\n",
      "2016_MICRODATOS.zip\n",
      "C:/Users/Miguel/Desktop/Hackio/Semana_5-ETL/Dia_1/data/downloaded\\2016_MICRODATOS.zip\n",
      "SIAE2020_anonimizada.zip\n",
      "C:/Users/Miguel/Desktop/Hackio/Semana_5-ETL/Dia_1/data/downloaded\\SIAE2020_anonimizada.zip\n",
      "SIAE_2017Anonimizada.zip\n",
      "C:/Users/Miguel/Desktop/Hackio/Semana_5-ETL/Dia_1/data/downloaded\\SIAE_2017Anonimizada.zip\n",
      "SIAE_2018anonimizada.zip\n",
      "C:/Users/Miguel/Desktop/Hackio/Semana_5-ETL/Dia_1/data/downloaded\\SIAE_2018anonimizada.zip\n",
      "SIAE_2019_10_03_21.zip\n",
      "C:/Users/Miguel/Desktop/Hackio/Semana_5-ETL/Dia_1/data/downloaded\\SIAE_2019_10_03_21.zip\n",
      "SIAE__2021_anonimizada.zip\n",
      "C:/Users/Miguel/Desktop/Hackio/Semana_5-ETL/Dia_1/data/downloaded\\SIAE__2021_anonimizada.zip\n"
     ]
    }
   ],
   "source": [
    "carpeta_descomprimidos = \"C:/Users/Miguel/Desktop/Hackio/Semana_5-ETL/Dia_1/data/unzipped\"\n",
    "carpeta_zips = \"C:/Users/Miguel/Desktop/Hackio/Semana_5-ETL/Dia_1/data/downloaded\"\n",
    "\n",
    "os.makedirs(carpeta_descomprimidos, exist_ok=True)\n",
    "\n",
    "for item in os.listdir(carpeta_zips):\n",
    "    print(item)\n",
    "\n",
    "    ruta_origen = os.path.join(carpeta_zips, item)\n",
    "\n",
    "    print(ruta_origen)\n",
    "\n",
    "    ruta_final = f\"{carpeta_descomprimidos}/{item.split('.')[0]}\"\n",
    "\n",
    "    os.makedirs(ruta_final, exist_ok=True)\n",
    "    \n",
    "    with zipfile.ZipFile(ruta_origen) as zip_ref:\n",
    "        zip_ref.extractall(ruta_final)\n",
    "    \n"
   ]
  },
  {
   "cell_type": "code",
   "execution_count": 49,
   "metadata": {},
   "outputs": [],
   "source": [
    "carpeta_descomprimidos = \"C:\\\\Users\\\\Miguel\\\\Desktop\\\\Hackio\\\\Semana_5-ETL\\\\Dia_1\\\\data\\\\unzipped\"\n",
    "\n",
    "def identificar_fichero_carpeta(ruta_check):\n",
    "\n",
    "    for elemento in os.listdir(ruta_check):\n",
    "\n",
    "        archivo_check = os.path.join(ruta_check, elemento)\n",
    "\n",
    "\n",
    "        \n",
    "        if os.path.isdir(archivo_check):\n",
    "            return archivo_check\n",
    "            break\n",
    "        elif os.path.isfile(archivo_check):\n",
    "            return False\n",
    "            break\n",
    "        else:\n",
    "            print(\"Puede estar vacía\")\n",
    "    \n",
    "    print(\".............\")\n"
   ]
  },
  {
   "cell_type": "code",
   "execution_count": 50,
   "metadata": {},
   "outputs": [
    {
     "ename": "NotADirectoryError",
     "evalue": "[WinError 267] El nombre del directorio no es válido: 'C:/Users/Miguel/Desktop/Hackio/Semana_5-ETL/Dia_1/data/downloaded\\\\SIAE__2021_anonimizada.zip'",
     "output_type": "error",
     "traceback": [
      "\u001b[1;31m---------------------------------------------------------------------------\u001b[0m",
      "\u001b[1;31mNotADirectoryError\u001b[0m                        Traceback (most recent call last)",
      "Cell \u001b[1;32mIn[50], line 1\u001b[0m\n\u001b[1;32m----> 1\u001b[0m \u001b[38;5;28;01mfor\u001b[39;00m archivo \u001b[38;5;129;01min\u001b[39;00m \u001b[43mos\u001b[49m\u001b[38;5;241;43m.\u001b[39;49m\u001b[43mlistdir\u001b[49m\u001b[43m(\u001b[49m\u001b[43mruta_check\u001b[49m\u001b[43m)\u001b[49m:\n\u001b[0;32m      2\u001b[0m     \u001b[38;5;28mprint\u001b[39m(archivo)\n\u001b[0;32m      4\u001b[0m     archivo_check \u001b[38;5;241m=\u001b[39m os\u001b[38;5;241m.\u001b[39mpath\u001b[38;5;241m.\u001b[39mjoin(ruta_check, archivo)\n",
      "\u001b[1;31mNotADirectoryError\u001b[0m: [WinError 267] El nombre del directorio no es válido: 'C:/Users/Miguel/Desktop/Hackio/Semana_5-ETL/Dia_1/data/downloaded\\\\SIAE__2021_anonimizada.zip'"
     ]
    }
   ],
   "source": [
    "for archivo in os.listdir(ruta_check):\n",
    "    print(archivo)\n",
    "\n",
    "    archivo_check = os.path.join(ruta_check, archivo)\n",
    "\n",
    "    print(archivo_check)\n",
    "    \n",
    "    if os.path.isdir(archivo_check):\n",
    "        print(\"Es una carpeta\")\n",
    "        break\n",
    "    elif os.path.isfile(archivo_check):\n",
    "        print(\"Es un fichero\")\n",
    "        break\n",
    "    else:\n",
    "        print(\"Puede estar vacía\")\n",
    "    \n",
    "    break"
   ]
  },
  {
   "cell_type": "code",
   "execution_count": 51,
   "metadata": {},
   "outputs": [
    {
     "data": {
      "text/plain": [
       "'C:\\\\Users\\\\Miguel\\\\Desktop\\\\Hackio\\\\Semana_5-ETL\\\\Dia_1\\\\data\\\\unzipped'"
      ]
     },
     "execution_count": 51,
     "metadata": {},
     "output_type": "execute_result"
    }
   ],
   "source": [
    "carpeta_descomprimidos"
   ]
  },
  {
   "cell_type": "code",
   "execution_count": 53,
   "metadata": {},
   "outputs": [
    {
     "name": "stdout",
     "output_type": "stream",
     "text": [
      "Pasan cosas\n",
      "C:\\Users\\Miguel\\Desktop\\Hackio\\Semana_5-ETL\\Dia_1\\data\\unzipped\\2014_Microdatos\\2014_MICRODATOS 01- Filiación.txt\n",
      "C:\\Users\\Miguel\\Desktop\\Hackio\\Semana_5-ETL\\Dia_1\\data\\unzipped\\2014_Microdatos\\2014_MICRODATOS 02- Oferta asistencial.txt\n",
      "C:\\Users\\Miguel\\Desktop\\Hackio\\Semana_5-ETL\\Dia_1\\data\\unzipped\\2014_Microdatos\\2014_MICRODATOS 03- Dotación hospital.txt\n",
      "C:\\Users\\Miguel\\Desktop\\Hackio\\Semana_5-ETL\\Dia_1\\data\\unzipped\\2014_Microdatos\\2014_MICRODATOS 04- Dotación tecnológica.txt\n",
      "C:\\Users\\Miguel\\Desktop\\Hackio\\Semana_5-ETL\\Dia_1\\data\\unzipped\\2014_Microdatos\\2014_MICRODATOS 05- Personal_I.txt\n",
      "C:\\Users\\Miguel\\Desktop\\Hackio\\Semana_5-ETL\\Dia_1\\data\\unzipped\\2014_Microdatos\\2014_MICRODATOS 06- Personal_II.txt\n",
      "C:\\Users\\Miguel\\Desktop\\Hackio\\Semana_5-ETL\\Dia_1\\data\\unzipped\\2014_Microdatos\\2014_MICRODATOS 07- Formación.txt\n",
      "C:\\Users\\Miguel\\Desktop\\Hackio\\Semana_5-ETL\\Dia_1\\data\\unzipped\\2014_Microdatos\\2014_MICRODATOS 08- Servicios Centrales.txt\n",
      "C:\\Users\\Miguel\\Desktop\\Hackio\\Semana_5-ETL\\Dia_1\\data\\unzipped\\2014_Microdatos\\2014_MICRODATOS 09- Actividad hospital.txt\n",
      "C:\\Users\\Miguel\\Desktop\\Hackio\\Semana_5-ETL\\Dia_1\\data\\unzipped\\2014_Microdatos\\2014_MICRODATOS 10- Actividad quirúrgica.txt\n",
      "C:\\Users\\Miguel\\Desktop\\Hackio\\Semana_5-ETL\\Dia_1\\data\\unzipped\\2014_Microdatos\\2014_MICRODATOS 11- Actividad obstétrica.txt\n",
      "C:\\Users\\Miguel\\Desktop\\Hackio\\Semana_5-ETL\\Dia_1\\data\\unzipped\\2014_Microdatos\\2014_MICRODATOS 12- Hospital de Día.txt\n",
      "C:\\Users\\Miguel\\Desktop\\Hackio\\Semana_5-ETL\\Dia_1\\data\\unzipped\\2014_Microdatos\\2014_MICRODATOS 13- Hospitalización a domicilio.txt\n",
      "C:\\Users\\Miguel\\Desktop\\Hackio\\Semana_5-ETL\\Dia_1\\data\\unzipped\\2014_Microdatos\\2014_MICRODATOS 14- Actividad consultas.txt\n",
      "C:\\Users\\Miguel\\Desktop\\Hackio\\Semana_5-ETL\\Dia_1\\data\\unzipped\\2014_Microdatos\\2014_MICRODATOS 15- Actividad urgencias.txt\n",
      "C:\\Users\\Miguel\\Desktop\\Hackio\\Semana_5-ETL\\Dia_1\\data\\unzipped\\2014_Microdatos\\2014_MICRODATOS 16- Actividad diagnóstica.txt\n",
      "C:\\Users\\Miguel\\Desktop\\Hackio\\Semana_5-ETL\\Dia_1\\data\\unzipped\\2014_Microdatos\\2014_MICRODATOS 17- Resto actividad.txt\n",
      "C:\\Users\\Miguel\\Desktop\\Hackio\\Semana_5-ETL\\Dia_1\\data\\unzipped\\2014_Microdatos\\2014_MICRODATOS 18- Régimen económico.txt\n",
      "C:\\Users\\Miguel\\Desktop\\Hackio\\Semana_5-ETL\\Dia_1\\data\\unzipped\\2014_Microdatos\\2014_MICRODATOS 19- Gastos.txt\n",
      "C:\\Users\\Miguel\\Desktop\\Hackio\\Semana_5-ETL\\Dia_1\\data\\unzipped\\2014_Microdatos\\2014_MICRODATOS 20- Ingresos.txt\n",
      "C:\\Users\\Miguel\\Desktop\\Hackio\\Semana_5-ETL\\Dia_1\\data\\unzipped\\2014_Microdatos\\2014_MICRODATOS 21- Inversiones.txt\n",
      "Pasan cosas\n",
      "C:\\Users\\Miguel\\Desktop\\Hackio\\Semana_5-ETL\\Dia_1\\data\\unzipped\\SIAE__2021_anonimizada\\SIAE_ 2021_anonimizada 2021 SIAE anonimizada a 01-02-2023.accdb\n"
     ]
    }
   ],
   "source": [
    "for carpeta in os.listdir(carpeta_descomprimidos):\n",
    "    ruta = os.path.join(carpeta_descomprimidos, carpeta)\n",
    "\n",
    "    ruta_hija = identificar_fichero_carpeta(ruta)\n",
    "\n",
    "    if ruta_hija:\n",
    "        print(\"Pasan cosas\")\n",
    "\n",
    "        for archivo in os.listdir(ruta_hija):\n",
    "            print(ruta_hija, archivo)\n",
    "            ruta_mover = os.path.join(ruta_hija, archivo)\n",
    "            shutil.move(ruta_mover, ruta)\n",
    "\n",
    "        os.removedirs(ruta_hija)\n",
    "    else:\n",
    "        pass"
   ]
  },
  {
   "cell_type": "code",
   "execution_count": null,
   "metadata": {},
   "outputs": [],
   "source": []
  }
 ],
 "metadata": {
  "kernelspec": {
   "display_name": "Dia_1_-_APIs-z3LYkQm2",
   "language": "python",
   "name": "python3"
  },
  "language_info": {
   "codemirror_mode": {
    "name": "ipython",
    "version": 3
   },
   "file_extension": ".py",
   "mimetype": "text/x-python",
   "name": "python",
   "nbconvert_exporter": "python",
   "pygments_lexer": "ipython3",
   "version": "3.11.4"
  }
 },
 "nbformat": 4,
 "nbformat_minor": 2
}
